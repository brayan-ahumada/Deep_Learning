{
  "nbformat": 4,
  "nbformat_minor": 0,
  "metadata": {
    "colab": {
      "name": "P1_Trabajo_1er_Corte.ipynb",
      "provenance": [],
      "collapsed_sections": []
    },
    "kernelspec": {
      "name": "python3",
      "display_name": "Python 3"
    },
    "language_info": {
      "name": "python"
    }
  },
  "cells": [
    {
      "cell_type": "code",
      "metadata": {
        "colab": {
          "base_uri": "https://localhost:8080/"
        },
        "id": "VgomPcJQEG6k",
        "outputId": "309d35aa-08db-46c3-b09b-c80cc649a4ef"
      },
      "source": [
        "!pip install wikitables\n",
        "!pip install fsspec\n",
        "!pip install beautifulsoup4"
      ],
      "execution_count": 23,
      "outputs": [
        {
          "output_type": "stream",
          "name": "stdout",
          "text": [
            "Requirement already satisfied: wikitables in /usr/local/lib/python3.7/dist-packages (0.5.5)\n",
            "Requirement already satisfied: pycountry>=20.7.3 in /usr/local/lib/python3.7/dist-packages (from wikitables) (20.7.3)\n",
            "Requirement already satisfied: requests>=2.9.1 in /usr/local/lib/python3.7/dist-packages (from wikitables) (2.23.0)\n",
            "Requirement already satisfied: mwparserfromhell>=0.4.3 in /usr/local/lib/python3.7/dist-packages (from wikitables) (0.6.3)\n",
            "Requirement already satisfied: urllib3!=1.25.0,!=1.25.1,<1.26,>=1.21.1 in /usr/local/lib/python3.7/dist-packages (from requests>=2.9.1->wikitables) (1.24.3)\n",
            "Requirement already satisfied: chardet<4,>=3.0.2 in /usr/local/lib/python3.7/dist-packages (from requests>=2.9.1->wikitables) (3.0.4)\n",
            "Requirement already satisfied: certifi>=2017.4.17 in /usr/local/lib/python3.7/dist-packages (from requests>=2.9.1->wikitables) (2021.5.30)\n",
            "Requirement already satisfied: idna<3,>=2.5 in /usr/local/lib/python3.7/dist-packages (from requests>=2.9.1->wikitables) (2.10)\n",
            "Requirement already satisfied: fsspec in /usr/local/lib/python3.7/dist-packages (2021.9.0)\n",
            "Requirement already satisfied: beautifulsoup4 in /usr/local/lib/python3.7/dist-packages (4.6.3)\n"
          ]
        }
      ]
    },
    {
      "cell_type": "code",
      "metadata": {
        "id": "bckeuWlZEbEP"
      },
      "source": [
        "import numpy as np\n",
        "import pandas as pd\n",
        "from sklearn.cluster import KMeans\n",
        "from sklearn import preprocessing  \n",
        "from sklearn.metrics import pairwise_distances_argmin_min\n",
        "\n",
        "import matplotlib.pyplot as plt\n",
        "import seaborn as sb\n",
        "from mpl_toolkits.mplot3d import Axes3D\n",
        "\n",
        "import requests                           \n",
        "from bs4 import BeautifulSoup             \n",
        "\n",
        "\n",
        "from sklearn.decomposition import PCA \n",
        "\n",
        "#configuraciones basicas para PLT\n",
        "%matplotlib inline\n",
        "plt.rcParams['figure.figsize'] = (10, 10)\n",
        "plt.style.use('ggplot')"
      ],
      "execution_count": 24,
      "outputs": []
    },
    {
      "cell_type": "code",
      "metadata": {
        "colab": {
          "base_uri": "https://localhost:8080/",
          "height": 417
        },
        "id": "9DzoeC0RE2on",
        "outputId": "55fd3f68-c4ca-4b3c-da42-3b2b8455ea3f"
      },
      "source": [
        "df_acciones = pd.read_csv(\"https://raw.githubusercontent.com/brayan-ahumada/Deep_Learning/main/NFLX.csv\")\n",
        "df_acciones"
      ],
      "execution_count": 131,
      "outputs": [
        {
          "output_type": "execute_result",
          "data": {
            "text/html": [
              "<div>\n",
              "<style scoped>\n",
              "    .dataframe tbody tr th:only-of-type {\n",
              "        vertical-align: middle;\n",
              "    }\n",
              "\n",
              "    .dataframe tbody tr th {\n",
              "        vertical-align: top;\n",
              "    }\n",
              "\n",
              "    .dataframe thead th {\n",
              "        text-align: right;\n",
              "    }\n",
              "</style>\n",
              "<table border=\"1\" class=\"dataframe\">\n",
              "  <thead>\n",
              "    <tr style=\"text-align: right;\">\n",
              "      <th></th>\n",
              "      <th>Date</th>\n",
              "      <th>Open</th>\n",
              "      <th>High</th>\n",
              "      <th>Low</th>\n",
              "      <th>Close</th>\n",
              "      <th>Adj Close</th>\n",
              "      <th>Volume</th>\n",
              "    </tr>\n",
              "  </thead>\n",
              "  <tbody>\n",
              "    <tr>\n",
              "      <th>0</th>\n",
              "      <td>2002-05-23</td>\n",
              "      <td>1.156429</td>\n",
              "      <td>1.242857</td>\n",
              "      <td>1.145714</td>\n",
              "      <td>1.196429</td>\n",
              "      <td>1.196429</td>\n",
              "      <td>104790000</td>\n",
              "    </tr>\n",
              "    <tr>\n",
              "      <th>1</th>\n",
              "      <td>2002-05-24</td>\n",
              "      <td>1.214286</td>\n",
              "      <td>1.225000</td>\n",
              "      <td>1.197143</td>\n",
              "      <td>1.210000</td>\n",
              "      <td>1.210000</td>\n",
              "      <td>11104800</td>\n",
              "    </tr>\n",
              "    <tr>\n",
              "      <th>2</th>\n",
              "      <td>2002-05-28</td>\n",
              "      <td>1.213571</td>\n",
              "      <td>1.232143</td>\n",
              "      <td>1.157143</td>\n",
              "      <td>1.157143</td>\n",
              "      <td>1.157143</td>\n",
              "      <td>6609400</td>\n",
              "    </tr>\n",
              "    <tr>\n",
              "      <th>3</th>\n",
              "      <td>2002-05-29</td>\n",
              "      <td>1.164286</td>\n",
              "      <td>1.164286</td>\n",
              "      <td>1.085714</td>\n",
              "      <td>1.103571</td>\n",
              "      <td>1.103571</td>\n",
              "      <td>6757800</td>\n",
              "    </tr>\n",
              "    <tr>\n",
              "      <th>4</th>\n",
              "      <td>2002-05-30</td>\n",
              "      <td>1.107857</td>\n",
              "      <td>1.107857</td>\n",
              "      <td>1.071429</td>\n",
              "      <td>1.071429</td>\n",
              "      <td>1.071429</td>\n",
              "      <td>10154200</td>\n",
              "    </tr>\n",
              "    <tr>\n",
              "      <th>...</th>\n",
              "      <td>...</td>\n",
              "      <td>...</td>\n",
              "      <td>...</td>\n",
              "      <td>...</td>\n",
              "      <td>...</td>\n",
              "      <td>...</td>\n",
              "      <td>...</td>\n",
              "    </tr>\n",
              "    <tr>\n",
              "      <th>4865</th>\n",
              "      <td>2021-09-20</td>\n",
              "      <td>586.789978</td>\n",
              "      <td>591.530029</td>\n",
              "      <td>568.080017</td>\n",
              "      <td>575.429993</td>\n",
              "      <td>575.429993</td>\n",
              "      <td>3732200</td>\n",
              "    </tr>\n",
              "    <tr>\n",
              "      <th>4866</th>\n",
              "      <td>2021-09-21</td>\n",
              "      <td>578.309998</td>\n",
              "      <td>581.880005</td>\n",
              "      <td>569.369995</td>\n",
              "      <td>573.140015</td>\n",
              "      <td>573.140015</td>\n",
              "      <td>2250900</td>\n",
              "    </tr>\n",
              "    <tr>\n",
              "      <th>4867</th>\n",
              "      <td>2021-09-22</td>\n",
              "      <td>579.690002</td>\n",
              "      <td>595.650024</td>\n",
              "      <td>579.690002</td>\n",
              "      <td>590.650024</td>\n",
              "      <td>590.650024</td>\n",
              "      <td>4021800</td>\n",
              "    </tr>\n",
              "    <tr>\n",
              "      <th>4868</th>\n",
              "      <td>2021-09-23</td>\n",
              "      <td>590.789978</td>\n",
              "      <td>599.320007</td>\n",
              "      <td>589.130005</td>\n",
              "      <td>593.260010</td>\n",
              "      <td>593.260010</td>\n",
              "      <td>2526200</td>\n",
              "    </tr>\n",
              "    <tr>\n",
              "      <th>4869</th>\n",
              "      <td>2021-09-24</td>\n",
              "      <td>592.500000</td>\n",
              "      <td>592.979980</td>\n",
              "      <td>583.640015</td>\n",
              "      <td>592.390015</td>\n",
              "      <td>592.390015</td>\n",
              "      <td>2124800</td>\n",
              "    </tr>\n",
              "  </tbody>\n",
              "</table>\n",
              "<p>4870 rows × 7 columns</p>\n",
              "</div>"
            ],
            "text/plain": [
              "            Date        Open        High  ...       Close   Adj Close     Volume\n",
              "0     2002-05-23    1.156429    1.242857  ...    1.196429    1.196429  104790000\n",
              "1     2002-05-24    1.214286    1.225000  ...    1.210000    1.210000   11104800\n",
              "2     2002-05-28    1.213571    1.232143  ...    1.157143    1.157143    6609400\n",
              "3     2002-05-29    1.164286    1.164286  ...    1.103571    1.103571    6757800\n",
              "4     2002-05-30    1.107857    1.107857  ...    1.071429    1.071429   10154200\n",
              "...          ...         ...         ...  ...         ...         ...        ...\n",
              "4865  2021-09-20  586.789978  591.530029  ...  575.429993  575.429993    3732200\n",
              "4866  2021-09-21  578.309998  581.880005  ...  573.140015  573.140015    2250900\n",
              "4867  2021-09-22  579.690002  595.650024  ...  590.650024  590.650024    4021800\n",
              "4868  2021-09-23  590.789978  599.320007  ...  593.260010  593.260010    2526200\n",
              "4869  2021-09-24  592.500000  592.979980  ...  592.390015  592.390015    2124800\n",
              "\n",
              "[4870 rows x 7 columns]"
            ]
          },
          "metadata": {},
          "execution_count": 131
        }
      ]
    },
    {
      "cell_type": "code",
      "metadata": {
        "colab": {
          "base_uri": "https://localhost:8080/"
        },
        "id": "xM-nJQ2QFeiY",
        "outputId": "fc34db10-729b-4821-fe76-045c1012003f"
      },
      "source": [
        "#Conociendo y procesando datos\n",
        "\n",
        "df_acciones.info()\n",
        "df_acciones.describe()\n",
        "df_acciones.isnull().sum()"
      ],
      "execution_count": 132,
      "outputs": [
        {
          "output_type": "stream",
          "name": "stdout",
          "text": [
            "<class 'pandas.core.frame.DataFrame'>\n",
            "RangeIndex: 4870 entries, 0 to 4869\n",
            "Data columns (total 7 columns):\n",
            " #   Column     Non-Null Count  Dtype  \n",
            "---  ------     --------------  -----  \n",
            " 0   Date       4870 non-null   object \n",
            " 1   Open       4870 non-null   float64\n",
            " 2   High       4870 non-null   float64\n",
            " 3   Low        4870 non-null   float64\n",
            " 4   Close      4870 non-null   float64\n",
            " 5   Adj Close  4870 non-null   float64\n",
            " 6   Volume     4870 non-null   int64  \n",
            "dtypes: float64(5), int64(1), object(1)\n",
            "memory usage: 266.5+ KB\n"
          ]
        },
        {
          "output_type": "execute_result",
          "data": {
            "text/plain": [
              "Date         0\n",
              "Open         0\n",
              "High         0\n",
              "Low          0\n",
              "Close        0\n",
              "Adj Close    0\n",
              "Volume       0\n",
              "dtype: int64"
            ]
          },
          "metadata": {},
          "execution_count": 132
        }
      ]
    },
    {
      "cell_type": "code",
      "metadata": {
        "id": "MqaVjxfxI2Sa"
      },
      "source": [
        "#Eliminando filas vacias\n",
        "df_acciones = df_acciones.dropna()   # Se eliminan filas que tengan valor NaN.\n",
        "df_acciones = df_acciones.reset_index(drop=True)"
      ],
      "execution_count": 133,
      "outputs": []
    },
    {
      "cell_type": "code",
      "metadata": {
        "colab": {
          "base_uri": "https://localhost:8080/",
          "height": 417
        },
        "id": "bM6_iUCwI934",
        "outputId": "936744e9-8007-4915-db47-d3343c6a1de7"
      },
      "source": [
        "#Cambiando tipo de dato en columna \n",
        "df_acciones['Date']=pd.to_datetime(df_acciones['Date'])       # Convertimos el campo DATE en tipo fecha\n",
        "#df_acciones = df_acciones.rename(columns={'Name':'symbol'}) No tiene columna Name, por lo que no aplica\n",
        "df_acciones"
      ],
      "execution_count": 134,
      "outputs": [
        {
          "output_type": "execute_result",
          "data": {
            "text/html": [
              "<div>\n",
              "<style scoped>\n",
              "    .dataframe tbody tr th:only-of-type {\n",
              "        vertical-align: middle;\n",
              "    }\n",
              "\n",
              "    .dataframe tbody tr th {\n",
              "        vertical-align: top;\n",
              "    }\n",
              "\n",
              "    .dataframe thead th {\n",
              "        text-align: right;\n",
              "    }\n",
              "</style>\n",
              "<table border=\"1\" class=\"dataframe\">\n",
              "  <thead>\n",
              "    <tr style=\"text-align: right;\">\n",
              "      <th></th>\n",
              "      <th>Date</th>\n",
              "      <th>Open</th>\n",
              "      <th>High</th>\n",
              "      <th>Low</th>\n",
              "      <th>Close</th>\n",
              "      <th>Adj Close</th>\n",
              "      <th>Volume</th>\n",
              "    </tr>\n",
              "  </thead>\n",
              "  <tbody>\n",
              "    <tr>\n",
              "      <th>0</th>\n",
              "      <td>2002-05-23</td>\n",
              "      <td>1.156429</td>\n",
              "      <td>1.242857</td>\n",
              "      <td>1.145714</td>\n",
              "      <td>1.196429</td>\n",
              "      <td>1.196429</td>\n",
              "      <td>104790000</td>\n",
              "    </tr>\n",
              "    <tr>\n",
              "      <th>1</th>\n",
              "      <td>2002-05-24</td>\n",
              "      <td>1.214286</td>\n",
              "      <td>1.225000</td>\n",
              "      <td>1.197143</td>\n",
              "      <td>1.210000</td>\n",
              "      <td>1.210000</td>\n",
              "      <td>11104800</td>\n",
              "    </tr>\n",
              "    <tr>\n",
              "      <th>2</th>\n",
              "      <td>2002-05-28</td>\n",
              "      <td>1.213571</td>\n",
              "      <td>1.232143</td>\n",
              "      <td>1.157143</td>\n",
              "      <td>1.157143</td>\n",
              "      <td>1.157143</td>\n",
              "      <td>6609400</td>\n",
              "    </tr>\n",
              "    <tr>\n",
              "      <th>3</th>\n",
              "      <td>2002-05-29</td>\n",
              "      <td>1.164286</td>\n",
              "      <td>1.164286</td>\n",
              "      <td>1.085714</td>\n",
              "      <td>1.103571</td>\n",
              "      <td>1.103571</td>\n",
              "      <td>6757800</td>\n",
              "    </tr>\n",
              "    <tr>\n",
              "      <th>4</th>\n",
              "      <td>2002-05-30</td>\n",
              "      <td>1.107857</td>\n",
              "      <td>1.107857</td>\n",
              "      <td>1.071429</td>\n",
              "      <td>1.071429</td>\n",
              "      <td>1.071429</td>\n",
              "      <td>10154200</td>\n",
              "    </tr>\n",
              "    <tr>\n",
              "      <th>...</th>\n",
              "      <td>...</td>\n",
              "      <td>...</td>\n",
              "      <td>...</td>\n",
              "      <td>...</td>\n",
              "      <td>...</td>\n",
              "      <td>...</td>\n",
              "      <td>...</td>\n",
              "    </tr>\n",
              "    <tr>\n",
              "      <th>4865</th>\n",
              "      <td>2021-09-20</td>\n",
              "      <td>586.789978</td>\n",
              "      <td>591.530029</td>\n",
              "      <td>568.080017</td>\n",
              "      <td>575.429993</td>\n",
              "      <td>575.429993</td>\n",
              "      <td>3732200</td>\n",
              "    </tr>\n",
              "    <tr>\n",
              "      <th>4866</th>\n",
              "      <td>2021-09-21</td>\n",
              "      <td>578.309998</td>\n",
              "      <td>581.880005</td>\n",
              "      <td>569.369995</td>\n",
              "      <td>573.140015</td>\n",
              "      <td>573.140015</td>\n",
              "      <td>2250900</td>\n",
              "    </tr>\n",
              "    <tr>\n",
              "      <th>4867</th>\n",
              "      <td>2021-09-22</td>\n",
              "      <td>579.690002</td>\n",
              "      <td>595.650024</td>\n",
              "      <td>579.690002</td>\n",
              "      <td>590.650024</td>\n",
              "      <td>590.650024</td>\n",
              "      <td>4021800</td>\n",
              "    </tr>\n",
              "    <tr>\n",
              "      <th>4868</th>\n",
              "      <td>2021-09-23</td>\n",
              "      <td>590.789978</td>\n",
              "      <td>599.320007</td>\n",
              "      <td>589.130005</td>\n",
              "      <td>593.260010</td>\n",
              "      <td>593.260010</td>\n",
              "      <td>2526200</td>\n",
              "    </tr>\n",
              "    <tr>\n",
              "      <th>4869</th>\n",
              "      <td>2021-09-24</td>\n",
              "      <td>592.500000</td>\n",
              "      <td>592.979980</td>\n",
              "      <td>583.640015</td>\n",
              "      <td>592.390015</td>\n",
              "      <td>592.390015</td>\n",
              "      <td>2124800</td>\n",
              "    </tr>\n",
              "  </tbody>\n",
              "</table>\n",
              "<p>4870 rows × 7 columns</p>\n",
              "</div>"
            ],
            "text/plain": [
              "           Date        Open        High  ...       Close   Adj Close     Volume\n",
              "0    2002-05-23    1.156429    1.242857  ...    1.196429    1.196429  104790000\n",
              "1    2002-05-24    1.214286    1.225000  ...    1.210000    1.210000   11104800\n",
              "2    2002-05-28    1.213571    1.232143  ...    1.157143    1.157143    6609400\n",
              "3    2002-05-29    1.164286    1.164286  ...    1.103571    1.103571    6757800\n",
              "4    2002-05-30    1.107857    1.107857  ...    1.071429    1.071429   10154200\n",
              "...         ...         ...         ...  ...         ...         ...        ...\n",
              "4865 2021-09-20  586.789978  591.530029  ...  575.429993  575.429993    3732200\n",
              "4866 2021-09-21  578.309998  581.880005  ...  573.140015  573.140015    2250900\n",
              "4867 2021-09-22  579.690002  595.650024  ...  590.650024  590.650024    4021800\n",
              "4868 2021-09-23  590.789978  599.320007  ...  593.260010  593.260010    2526200\n",
              "4869 2021-09-24  592.500000  592.979980  ...  592.390015  592.390015    2124800\n",
              "\n",
              "[4870 rows x 7 columns]"
            ]
          },
          "metadata": {},
          "execution_count": 134
        }
      ]
    },
    {
      "cell_type": "code",
      "metadata": {
        "colab": {
          "base_uri": "https://localhost:8080/",
          "height": 203
        },
        "id": "dt_9yBxRJT9O",
        "outputId": "0f79733c-9431-4cb0-b93e-199b4c205082"
      },
      "source": [
        "#Se definen las columnas a usar en el ejercicio, se usaran 2 tablas open y close para el rango\n",
        "tabla_1_inicio = df_acciones[['Date', 'Open']]\n",
        "tabla_1_inicio.head()"
      ],
      "execution_count": 135,
      "outputs": [
        {
          "output_type": "execute_result",
          "data": {
            "text/html": [
              "<div>\n",
              "<style scoped>\n",
              "    .dataframe tbody tr th:only-of-type {\n",
              "        vertical-align: middle;\n",
              "    }\n",
              "\n",
              "    .dataframe tbody tr th {\n",
              "        vertical-align: top;\n",
              "    }\n",
              "\n",
              "    .dataframe thead th {\n",
              "        text-align: right;\n",
              "    }\n",
              "</style>\n",
              "<table border=\"1\" class=\"dataframe\">\n",
              "  <thead>\n",
              "    <tr style=\"text-align: right;\">\n",
              "      <th></th>\n",
              "      <th>Date</th>\n",
              "      <th>Open</th>\n",
              "    </tr>\n",
              "  </thead>\n",
              "  <tbody>\n",
              "    <tr>\n",
              "      <th>0</th>\n",
              "      <td>2002-05-23</td>\n",
              "      <td>1.156429</td>\n",
              "    </tr>\n",
              "    <tr>\n",
              "      <th>1</th>\n",
              "      <td>2002-05-24</td>\n",
              "      <td>1.214286</td>\n",
              "    </tr>\n",
              "    <tr>\n",
              "      <th>2</th>\n",
              "      <td>2002-05-28</td>\n",
              "      <td>1.213571</td>\n",
              "    </tr>\n",
              "    <tr>\n",
              "      <th>3</th>\n",
              "      <td>2002-05-29</td>\n",
              "      <td>1.164286</td>\n",
              "    </tr>\n",
              "    <tr>\n",
              "      <th>4</th>\n",
              "      <td>2002-05-30</td>\n",
              "      <td>1.107857</td>\n",
              "    </tr>\n",
              "  </tbody>\n",
              "</table>\n",
              "</div>"
            ],
            "text/plain": [
              "        Date      Open\n",
              "0 2002-05-23  1.156429\n",
              "1 2002-05-24  1.214286\n",
              "2 2002-05-28  1.213571\n",
              "3 2002-05-29  1.164286\n",
              "4 2002-05-30  1.107857"
            ]
          },
          "metadata": {},
          "execution_count": 135
        }
      ]
    },
    {
      "cell_type": "code",
      "metadata": {
        "colab": {
          "base_uri": "https://localhost:8080/",
          "height": 203
        },
        "id": "5LU4IHzUR8Ai",
        "outputId": "4712d03d-9fea-4acf-e63e-7d10059d041c"
      },
      "source": [
        "tabla_2_fin = df_acciones[['Date', 'Close']]\n",
        "tabla_2_fin.head()"
      ],
      "execution_count": 136,
      "outputs": [
        {
          "output_type": "execute_result",
          "data": {
            "text/html": [
              "<div>\n",
              "<style scoped>\n",
              "    .dataframe tbody tr th:only-of-type {\n",
              "        vertical-align: middle;\n",
              "    }\n",
              "\n",
              "    .dataframe tbody tr th {\n",
              "        vertical-align: top;\n",
              "    }\n",
              "\n",
              "    .dataframe thead th {\n",
              "        text-align: right;\n",
              "    }\n",
              "</style>\n",
              "<table border=\"1\" class=\"dataframe\">\n",
              "  <thead>\n",
              "    <tr style=\"text-align: right;\">\n",
              "      <th></th>\n",
              "      <th>Date</th>\n",
              "      <th>Close</th>\n",
              "    </tr>\n",
              "  </thead>\n",
              "  <tbody>\n",
              "    <tr>\n",
              "      <th>0</th>\n",
              "      <td>2002-05-23</td>\n",
              "      <td>1.196429</td>\n",
              "    </tr>\n",
              "    <tr>\n",
              "      <th>1</th>\n",
              "      <td>2002-05-24</td>\n",
              "      <td>1.210000</td>\n",
              "    </tr>\n",
              "    <tr>\n",
              "      <th>2</th>\n",
              "      <td>2002-05-28</td>\n",
              "      <td>1.157143</td>\n",
              "    </tr>\n",
              "    <tr>\n",
              "      <th>3</th>\n",
              "      <td>2002-05-29</td>\n",
              "      <td>1.103571</td>\n",
              "    </tr>\n",
              "    <tr>\n",
              "      <th>4</th>\n",
              "      <td>2002-05-30</td>\n",
              "      <td>1.071429</td>\n",
              "    </tr>\n",
              "  </tbody>\n",
              "</table>\n",
              "</div>"
            ],
            "text/plain": [
              "        Date     Close\n",
              "0 2002-05-23  1.196429\n",
              "1 2002-05-24  1.210000\n",
              "2 2002-05-28  1.157143\n",
              "3 2002-05-29  1.103571\n",
              "4 2002-05-30  1.071429"
            ]
          },
          "metadata": {},
          "execution_count": 136
        }
      ]
    },
    {
      "cell_type": "code",
      "metadata": {
        "colab": {
          "base_uri": "https://localhost:8080/",
          "height": 203
        },
        "id": "WMg64I9OSdD5",
        "outputId": "28a8aa28-65c6-4d80-a2ae-3233208b84de"
      },
      "source": [
        "tabla_1_inicio = df_acciones.pivot(index='Date', columns='Open', values='Open')\n",
        "tabla_1_inicio = df_acciones.dropna(axis=1)    #borramos filas vacias\n",
        "tabla_1_inicio.head(5)"
      ],
      "execution_count": 137,
      "outputs": [
        {
          "output_type": "execute_result",
          "data": {
            "text/html": [
              "<div>\n",
              "<style scoped>\n",
              "    .dataframe tbody tr th:only-of-type {\n",
              "        vertical-align: middle;\n",
              "    }\n",
              "\n",
              "    .dataframe tbody tr th {\n",
              "        vertical-align: top;\n",
              "    }\n",
              "\n",
              "    .dataframe thead th {\n",
              "        text-align: right;\n",
              "    }\n",
              "</style>\n",
              "<table border=\"1\" class=\"dataframe\">\n",
              "  <thead>\n",
              "    <tr style=\"text-align: right;\">\n",
              "      <th></th>\n",
              "      <th>Date</th>\n",
              "      <th>Open</th>\n",
              "      <th>High</th>\n",
              "      <th>Low</th>\n",
              "      <th>Close</th>\n",
              "      <th>Adj Close</th>\n",
              "      <th>Volume</th>\n",
              "    </tr>\n",
              "  </thead>\n",
              "  <tbody>\n",
              "    <tr>\n",
              "      <th>0</th>\n",
              "      <td>2002-05-23</td>\n",
              "      <td>1.156429</td>\n",
              "      <td>1.242857</td>\n",
              "      <td>1.145714</td>\n",
              "      <td>1.196429</td>\n",
              "      <td>1.196429</td>\n",
              "      <td>104790000</td>\n",
              "    </tr>\n",
              "    <tr>\n",
              "      <th>1</th>\n",
              "      <td>2002-05-24</td>\n",
              "      <td>1.214286</td>\n",
              "      <td>1.225000</td>\n",
              "      <td>1.197143</td>\n",
              "      <td>1.210000</td>\n",
              "      <td>1.210000</td>\n",
              "      <td>11104800</td>\n",
              "    </tr>\n",
              "    <tr>\n",
              "      <th>2</th>\n",
              "      <td>2002-05-28</td>\n",
              "      <td>1.213571</td>\n",
              "      <td>1.232143</td>\n",
              "      <td>1.157143</td>\n",
              "      <td>1.157143</td>\n",
              "      <td>1.157143</td>\n",
              "      <td>6609400</td>\n",
              "    </tr>\n",
              "    <tr>\n",
              "      <th>3</th>\n",
              "      <td>2002-05-29</td>\n",
              "      <td>1.164286</td>\n",
              "      <td>1.164286</td>\n",
              "      <td>1.085714</td>\n",
              "      <td>1.103571</td>\n",
              "      <td>1.103571</td>\n",
              "      <td>6757800</td>\n",
              "    </tr>\n",
              "    <tr>\n",
              "      <th>4</th>\n",
              "      <td>2002-05-30</td>\n",
              "      <td>1.107857</td>\n",
              "      <td>1.107857</td>\n",
              "      <td>1.071429</td>\n",
              "      <td>1.071429</td>\n",
              "      <td>1.071429</td>\n",
              "      <td>10154200</td>\n",
              "    </tr>\n",
              "  </tbody>\n",
              "</table>\n",
              "</div>"
            ],
            "text/plain": [
              "        Date      Open      High       Low     Close  Adj Close     Volume\n",
              "0 2002-05-23  1.156429  1.242857  1.145714  1.196429   1.196429  104790000\n",
              "1 2002-05-24  1.214286  1.225000  1.197143  1.210000   1.210000   11104800\n",
              "2 2002-05-28  1.213571  1.232143  1.157143  1.157143   1.157143    6609400\n",
              "3 2002-05-29  1.164286  1.164286  1.085714  1.103571   1.103571    6757800\n",
              "4 2002-05-30  1.107857  1.107857  1.071429  1.071429   1.071429   10154200"
            ]
          },
          "metadata": {},
          "execution_count": 137
        }
      ]
    },
    {
      "cell_type": "code",
      "metadata": {
        "colab": {
          "base_uri": "https://localhost:8080/",
          "height": 203
        },
        "id": "fwhjWU4uSlQI",
        "outputId": "2fff785f-4c01-409a-a155-6a1a13a2ff52"
      },
      "source": [
        "tabla_2_fin = df_acciones.pivot(index='Date', columns='Close', values='Close')\n",
        "tabla_2_fin = df_acciones.dropna(axis=1)    #borramos filas vacias\n",
        "tabla_2_fin.head(5)"
      ],
      "execution_count": 138,
      "outputs": [
        {
          "output_type": "execute_result",
          "data": {
            "text/html": [
              "<div>\n",
              "<style scoped>\n",
              "    .dataframe tbody tr th:only-of-type {\n",
              "        vertical-align: middle;\n",
              "    }\n",
              "\n",
              "    .dataframe tbody tr th {\n",
              "        vertical-align: top;\n",
              "    }\n",
              "\n",
              "    .dataframe thead th {\n",
              "        text-align: right;\n",
              "    }\n",
              "</style>\n",
              "<table border=\"1\" class=\"dataframe\">\n",
              "  <thead>\n",
              "    <tr style=\"text-align: right;\">\n",
              "      <th></th>\n",
              "      <th>Date</th>\n",
              "      <th>Open</th>\n",
              "      <th>High</th>\n",
              "      <th>Low</th>\n",
              "      <th>Close</th>\n",
              "      <th>Adj Close</th>\n",
              "      <th>Volume</th>\n",
              "    </tr>\n",
              "  </thead>\n",
              "  <tbody>\n",
              "    <tr>\n",
              "      <th>0</th>\n",
              "      <td>2002-05-23</td>\n",
              "      <td>1.156429</td>\n",
              "      <td>1.242857</td>\n",
              "      <td>1.145714</td>\n",
              "      <td>1.196429</td>\n",
              "      <td>1.196429</td>\n",
              "      <td>104790000</td>\n",
              "    </tr>\n",
              "    <tr>\n",
              "      <th>1</th>\n",
              "      <td>2002-05-24</td>\n",
              "      <td>1.214286</td>\n",
              "      <td>1.225000</td>\n",
              "      <td>1.197143</td>\n",
              "      <td>1.210000</td>\n",
              "      <td>1.210000</td>\n",
              "      <td>11104800</td>\n",
              "    </tr>\n",
              "    <tr>\n",
              "      <th>2</th>\n",
              "      <td>2002-05-28</td>\n",
              "      <td>1.213571</td>\n",
              "      <td>1.232143</td>\n",
              "      <td>1.157143</td>\n",
              "      <td>1.157143</td>\n",
              "      <td>1.157143</td>\n",
              "      <td>6609400</td>\n",
              "    </tr>\n",
              "    <tr>\n",
              "      <th>3</th>\n",
              "      <td>2002-05-29</td>\n",
              "      <td>1.164286</td>\n",
              "      <td>1.164286</td>\n",
              "      <td>1.085714</td>\n",
              "      <td>1.103571</td>\n",
              "      <td>1.103571</td>\n",
              "      <td>6757800</td>\n",
              "    </tr>\n",
              "    <tr>\n",
              "      <th>4</th>\n",
              "      <td>2002-05-30</td>\n",
              "      <td>1.107857</td>\n",
              "      <td>1.107857</td>\n",
              "      <td>1.071429</td>\n",
              "      <td>1.071429</td>\n",
              "      <td>1.071429</td>\n",
              "      <td>10154200</td>\n",
              "    </tr>\n",
              "  </tbody>\n",
              "</table>\n",
              "</div>"
            ],
            "text/plain": [
              "        Date      Open      High       Low     Close  Adj Close     Volume\n",
              "0 2002-05-23  1.156429  1.242857  1.145714  1.196429   1.196429  104790000\n",
              "1 2002-05-24  1.214286  1.225000  1.197143  1.210000   1.210000   11104800\n",
              "2 2002-05-28  1.213571  1.232143  1.157143  1.157143   1.157143    6609400\n",
              "3 2002-05-29  1.164286  1.164286  1.085714  1.103571   1.103571    6757800\n",
              "4 2002-05-30  1.107857  1.107857  1.071429  1.071429   1.071429   10154200"
            ]
          },
          "metadata": {},
          "execution_count": 138
        }
      ]
    },
    {
      "cell_type": "code",
      "metadata": {
        "id": "q8rTw3dkTD6M"
      },
      "source": [
        "tabla_1_inicio['Date'] = pd.to_datetime(tabla_1_inicio['Date'])\n",
        "tabla_2_fin['Date'] = pd.to_datetime(tabla_2_fin['Date'])"
      ],
      "execution_count": 141,
      "outputs": []
    },
    {
      "cell_type": "code",
      "metadata": {
        "id": "jvAoCoB3Tui2"
      },
      "source": [
        "tabla_1_inicio = tabla_1_inicio.resample('W', on='Date').sum()\n",
        "tabla_2_fin = tabla_2_fin.resample('W', on='Date').sum()"
      ],
      "execution_count": 143,
      "outputs": []
    },
    {
      "cell_type": "code",
      "metadata": {
        "id": "S3L5gy-4T3ek"
      },
      "source": [
        "#funcion para sacar el  nombre de las empresas segun  su sigla\n",
        "def plot_stock(symbol, df_acciones=df_acciones):\n",
        "    df_acciones[symbol].plot(alpha=2);"
      ],
      "execution_count": 144,
      "outputs": []
    },
    {
      "cell_type": "code",
      "metadata": {
        "colab": {
          "base_uri": "https://localhost:8080/",
          "height": 609
        },
        "id": "EdepE_1WT7jJ",
        "outputId": "1a50d45e-74d2-41cb-dc3f-bb4d0a67bf34"
      },
      "source": [
        "plot_stock('Open')\n",
        "plot_stock('Close')\n",
        "plt.title('Open v Close')\n",
        "plt.legend();"
      ],
      "execution_count": 145,
      "outputs": [
        {
          "output_type": "display_data",
          "data": {
            "image/png": "[encoded data removed]",
            "text/plain": [
              "<Figure size 720x720 with 1 Axes>"
            ]
          },
          "metadata": {}
        }
      ]
    },
    {
      "cell_type": "code",
      "metadata": {
        "colab": {
          "base_uri": "https://localhost:8080/"
        },
        "id": "1yGiY1XdVXEJ",
        "outputId": "77309625-d2e6-4235-97e7-f4499ff6a2bc"
      },
      "source": [
        "X = np.array(df_acciones[[\"Open\",\"Close\"]])\n",
        "y = np.array(df_acciones['Date'])\n",
        "#forma de la matriz\n",
        "X.shape"
      ],
      "execution_count": 176,
      "outputs": [
        {
          "output_type": "execute_result",
          "data": {
            "text/plain": [
              "(4870, 2)"
            ]
          },
          "metadata": {},
          "execution_count": 176
        }
      ]
    },
    {
      "cell_type": "code",
      "metadata": {
        "colab": {
          "base_uri": "https://localhost:8080/",
          "height": 626
        },
        "id": "S-UIFnL_USf5",
        "outputId": "7410ec8e-a2d0-4dca-d1d3-6f22dabadbd3"
      },
      "source": [
        "Nc = range(1, 30)\n",
        "kmeans = [KMeans(n_clusters=i) for i in Nc]\n",
        "kmeans\n",
        "score = [kmeans[i].fit(X).score(X) for i in range(len(kmeans))]\n",
        "score\n",
        "plt.plot(Nc,score)\n",
        "plt.xlabel('Numero de Clusters')\n",
        "plt.ylabel('Valores')\n",
        "plt.title('Curva de eficiencia')\n",
        "plt.show()"
      ],
      "execution_count": 177,
      "outputs": [
        {
          "output_type": "display_data",
          "data": {
            "image/png": "[encoded data removed]",
            "text/plain": [
              "<Figure size 720x720 with 1 Axes>"
            ]
          },
          "metadata": {}
        }
      ]
    },
    {
      "cell_type": "code",
      "metadata": {
        "colab": {
          "base_uri": "https://localhost:8080/",
          "height": 626
        },
        "id": "vTmwL3WiVxcU",
        "outputId": "434fa1e1-d523-4271-dc34-f899ce560908"
      },
      "source": [
        "wcss = []\n",
        "for i in range(1, 30):\n",
        "    kmeans = KMeans(n_clusters=i, init='k-means++', max_iter=300, n_init=10, random_state=0)\n",
        "    kmeans.fit(X)\n",
        "    wcss.append(kmeans.inertia_)\n",
        "plt.plot(range(1, 30), wcss)\n",
        "plt.title('Metodo de codo')\n",
        "plt.xlabel('Numero de clusters')\n",
        "plt.ylabel('WCSS')\n",
        "plt.show()"
      ],
      "execution_count": 178,
      "outputs": [
        {
          "output_type": "display_data",
          "data": {
            "image/png": "[encoded data removed]",
            "text/plain": [
              "<Figure size 720x720 with 1 Axes>"
            ]
          },
          "metadata": {}
        }
      ]
    },
    {
      "cell_type": "code",
      "metadata": {
        "colab": {
          "base_uri": "https://localhost:8080/"
        },
        "id": "pUQoSTaoV23y",
        "outputId": "67fdfa0c-551a-4e54-b354-f8212a21de5e"
      },
      "source": [
        "kmeans = KMeans(n_clusters=4).fit(X)\n",
        "centroids = kmeans.cluster_centers_\n",
        "print(centroids)"
      ],
      "execution_count": 179,
      "outputs": [
        {
          "output_type": "stream",
          "name": "stdout",
          "text": [
            "[[127.51494278 127.57264025]\n",
            " [508.44473164 508.51495741]\n",
            " [ 14.88817864  14.89616977]\n",
            " [332.45965004 332.63528853]]\n"
          ]
        }
      ]
    },
    {
      "cell_type": "code",
      "metadata": {
        "id": "Fi-EAVnlV6O9"
      },
      "source": [
        "#3 dimensiones que utilizamos: Openess, Extraversion y Agreeablenes. \n",
        "#Pareciera que no hay necesariamente una relación en los grupos con sus actividades de Celebrity.\n",
        "labels = kmeans.predict(X)\n",
        "# Getting the cluster centers\n",
        "C = kmeans.cluster_centers_\n",
        "colores=['blue','red','green','yellow'] #,'yellow','orange','black','pink','brown']\n",
        "asignar=[]\n",
        "for row in labels:\n",
        "    asignar.append(colores[row])"
      ],
      "execution_count": 180,
      "outputs": []
    },
    {
      "cell_type": "code",
      "metadata": {
        "colab": {
          "base_uri": "https://localhost:8080/",
          "height": 592
        },
        "id": "COQTOFy-WJHg",
        "outputId": "48978726-65a7-4126-f851-9021af40ec56"
      },
      "source": [
        "# mostramos grupos según Openess y Extraversion \n",
        "f1 = df_acciones['Open'].values\n",
        "f2 = df_acciones['Close'].values\n",
        "\n",
        "#\n",
        "plt.scatter(f1, f2, c=asignar, s=70)\n",
        "plt.scatter(C[:, 0], C[:, 1], marker='*', c=colores, s=1000)\n",
        "plt.show()"
      ],
      "execution_count": 181,
      "outputs": [
        {
          "output_type": "display_data",
          "data": {
            "image/png": "[encoded data removed]",
            "text/plain": [
              "<Figure size 720x720 with 1 Axes>"
            ]
          },
          "metadata": {}
        }
      ]
    },
    {
      "cell_type": "code",
      "metadata": {
        "colab": {
          "base_uri": "https://localhost:8080/",
          "height": 592
        },
        "id": "kx05xPuhXtBQ",
        "outputId": "755b4a9d-e631-438d-e11d-ca97b85d779e"
      },
      "source": [
        "# mostramos grupos según Openess y Extraversion \n",
        "f1 = df_acciones['Open'].values\n",
        "f2 = df_acciones['Close'].values\n",
        "\n",
        "#\n",
        "plt.scatter(f1, f2, c=asignar, s=70)\n",
        "plt.scatter(C[:, 1], C[:, 1], marker='*', c=colores, s=1000)\n",
        "plt.show()"
      ],
      "execution_count": 182,
      "outputs": [
        {
          "output_type": "display_data",
          "data": {
            "image/png": "[encoded data removed]",
            "text/plain": [
              "<Figure size 720x720 with 1 Axes>"
            ]
          },
          "metadata": {}
        }
      ]
    },
    {
      "cell_type": "code",
      "metadata": {
        "colab": {
          "base_uri": "https://localhost:8080/",
          "height": 172
        },
        "id": "fSqwKUseYnFE",
        "outputId": "ce5b95f0-c9e7-4f0d-f2b1-10243ce8e1bc"
      },
      "source": [
        "\n",
        "copy =  pd.DataFrame()\n",
        "copy['Date']=df_acciones['Date'].values\n",
        "copy['Open']=df_acciones['Open'].values\n",
        "copy['label'] = labels;\n",
        "cantidadGrupo =  pd.DataFrame()\n",
        "cantidadGrupo['color']=colores\n",
        "cantidadGrupo['cantidad']=copy.groupby('label').size()\n",
        "cantidadGrupo"
      ],
      "execution_count": 188,
      "outputs": [
        {
          "output_type": "execute_result",
          "data": {
            "text/html": [
              "<div>\n",
              "<style scoped>\n",
              "    .dataframe tbody tr th:only-of-type {\n",
              "        vertical-align: middle;\n",
              "    }\n",
              "\n",
              "    .dataframe tbody tr th {\n",
              "        vertical-align: top;\n",
              "    }\n",
              "\n",
              "    .dataframe thead th {\n",
              "        text-align: right;\n",
              "    }\n",
              "</style>\n",
              "<table border=\"1\" class=\"dataframe\">\n",
              "  <thead>\n",
              "    <tr style=\"text-align: right;\">\n",
              "      <th></th>\n",
              "      <th>color</th>\n",
              "      <th>cantidad</th>\n",
              "    </tr>\n",
              "  </thead>\n",
              "  <tbody>\n",
              "    <tr>\n",
              "      <th>0</th>\n",
              "      <td>blue</td>\n",
              "      <td>698</td>\n",
              "    </tr>\n",
              "    <tr>\n",
              "      <th>1</th>\n",
              "      <td>red</td>\n",
              "      <td>355</td>\n",
              "    </tr>\n",
              "    <tr>\n",
              "      <th>2</th>\n",
              "      <td>green</td>\n",
              "      <td>3246</td>\n",
              "    </tr>\n",
              "    <tr>\n",
              "      <th>3</th>\n",
              "      <td>yellow</td>\n",
              "      <td>571</td>\n",
              "    </tr>\n",
              "  </tbody>\n",
              "</table>\n",
              "</div>"
            ],
            "text/plain": [
              "    color  cantidad\n",
              "0    blue       698\n",
              "1     red       355\n",
              "2   green      3246\n",
              "3  yellow       571"
            ]
          },
          "metadata": {},
          "execution_count": 188
        }
      ]
    },
    {
      "cell_type": "code",
      "metadata": {
        "colab": {
          "base_uri": "https://localhost:8080/",
          "height": 172
        },
        "id": "54182eQmZHS4",
        "outputId": "c1f5c8e4-77c4-4207-a8d6-39f43f1f690d"
      },
      "source": [
        "\n",
        "copy =  pd.DataFrame()\n",
        "copy['Date']=df_acciones['Date'].values\n",
        "copy['Close']=df_acciones['Close'].values\n",
        "copy['label'] = labels;\n",
        "cantidadGrupo =  pd.DataFrame()\n",
        "cantidadGrupo['color']=colores\n",
        "cantidadGrupo['cantidad']=copy.groupby('label').size()\n",
        "cantidadGrupo"
      ],
      "execution_count": 189,
      "outputs": [
        {
          "output_type": "execute_result",
          "data": {
            "text/html": [
              "<div>\n",
              "<style scoped>\n",
              "    .dataframe tbody tr th:only-of-type {\n",
              "        vertical-align: middle;\n",
              "    }\n",
              "\n",
              "    .dataframe tbody tr th {\n",
              "        vertical-align: top;\n",
              "    }\n",
              "\n",
              "    .dataframe thead th {\n",
              "        text-align: right;\n",
              "    }\n",
              "</style>\n",
              "<table border=\"1\" class=\"dataframe\">\n",
              "  <thead>\n",
              "    <tr style=\"text-align: right;\">\n",
              "      <th></th>\n",
              "      <th>color</th>\n",
              "      <th>cantidad</th>\n",
              "    </tr>\n",
              "  </thead>\n",
              "  <tbody>\n",
              "    <tr>\n",
              "      <th>0</th>\n",
              "      <td>blue</td>\n",
              "      <td>698</td>\n",
              "    </tr>\n",
              "    <tr>\n",
              "      <th>1</th>\n",
              "      <td>red</td>\n",
              "      <td>355</td>\n",
              "    </tr>\n",
              "    <tr>\n",
              "      <th>2</th>\n",
              "      <td>green</td>\n",
              "      <td>3246</td>\n",
              "    </tr>\n",
              "    <tr>\n",
              "      <th>3</th>\n",
              "      <td>yellow</td>\n",
              "      <td>571</td>\n",
              "    </tr>\n",
              "  </tbody>\n",
              "</table>\n",
              "</div>"
            ],
            "text/plain": [
              "    color  cantidad\n",
              "0    blue       698\n",
              "1     red       355\n",
              "2   green      3246\n",
              "3  yellow       571"
            ]
          },
          "metadata": {},
          "execution_count": 189
        }
      ]
    },
    {
      "cell_type": "code",
      "metadata": {
        "colab": {
          "base_uri": "https://localhost:8080/",
          "height": 203
        },
        "id": "7FcU4Rh_ZKo4",
        "outputId": "6fde0080-c6ed-4995-8248-81e44b8943c3"
      },
      "source": [
        "\n",
        "df_cluster = pd.DataFrame()\n",
        "df_cluster['data_index']= df_acciones.index.values\n",
        "df_cluster['data_index']= df_acciones.Date\n",
        "df_cluster['cluster']=kmeans.labels_\n",
        "df_cluster.head()"
      ],
      "execution_count": 195,
      "outputs": [
        {
          "output_type": "execute_result",
          "data": {
            "text/html": [
              "<div>\n",
              "<style scoped>\n",
              "    .dataframe tbody tr th:only-of-type {\n",
              "        vertical-align: middle;\n",
              "    }\n",
              "\n",
              "    .dataframe tbody tr th {\n",
              "        vertical-align: top;\n",
              "    }\n",
              "\n",
              "    .dataframe thead th {\n",
              "        text-align: right;\n",
              "    }\n",
              "</style>\n",
              "<table border=\"1\" class=\"dataframe\">\n",
              "  <thead>\n",
              "    <tr style=\"text-align: right;\">\n",
              "      <th></th>\n",
              "      <th>data_index</th>\n",
              "      <th>cluster</th>\n",
              "    </tr>\n",
              "  </thead>\n",
              "  <tbody>\n",
              "    <tr>\n",
              "      <th>0</th>\n",
              "      <td>2002-05-23</td>\n",
              "      <td>2</td>\n",
              "    </tr>\n",
              "    <tr>\n",
              "      <th>1</th>\n",
              "      <td>2002-05-24</td>\n",
              "      <td>2</td>\n",
              "    </tr>\n",
              "    <tr>\n",
              "      <th>2</th>\n",
              "      <td>2002-05-28</td>\n",
              "      <td>2</td>\n",
              "    </tr>\n",
              "    <tr>\n",
              "      <th>3</th>\n",
              "      <td>2002-05-29</td>\n",
              "      <td>2</td>\n",
              "    </tr>\n",
              "    <tr>\n",
              "      <th>4</th>\n",
              "      <td>2002-05-30</td>\n",
              "      <td>2</td>\n",
              "    </tr>\n",
              "  </tbody>\n",
              "</table>\n",
              "</div>"
            ],
            "text/plain": [
              "  data_index  cluster\n",
              "0 2002-05-23        2\n",
              "1 2002-05-24        2\n",
              "2 2002-05-28        2\n",
              "3 2002-05-29        2\n",
              "4 2002-05-30        2"
            ]
          },
          "metadata": {},
          "execution_count": 195
        }
      ]
    },
    {
      "cell_type": "code",
      "metadata": {
        "colab": {
          "base_uri": "https://localhost:8080/",
          "height": 203
        },
        "id": "qWbL0cqvZl2S",
        "outputId": "c63a8e3c-0157-414e-aa3b-3277b5d0c336"
      },
      "source": [
        "df_cluster = pd.DataFrame()\n",
        "df_cluster['data_index']= df_acciones.index.values\n",
        "df_cluster['data_index']= df_acciones.Open\n",
        "df_cluster['cluster']=kmeans.labels_\n",
        "df_cluster.head()"
      ],
      "execution_count": 196,
      "outputs": [
        {
          "output_type": "execute_result",
          "data": {
            "text/html": [
              "<div>\n",
              "<style scoped>\n",
              "    .dataframe tbody tr th:only-of-type {\n",
              "        vertical-align: middle;\n",
              "    }\n",
              "\n",
              "    .dataframe tbody tr th {\n",
              "        vertical-align: top;\n",
              "    }\n",
              "\n",
              "    .dataframe thead th {\n",
              "        text-align: right;\n",
              "    }\n",
              "</style>\n",
              "<table border=\"1\" class=\"dataframe\">\n",
              "  <thead>\n",
              "    <tr style=\"text-align: right;\">\n",
              "      <th></th>\n",
              "      <th>data_index</th>\n",
              "      <th>cluster</th>\n",
              "    </tr>\n",
              "  </thead>\n",
              "  <tbody>\n",
              "    <tr>\n",
              "      <th>0</th>\n",
              "      <td>1.156429</td>\n",
              "      <td>2</td>\n",
              "    </tr>\n",
              "    <tr>\n",
              "      <th>1</th>\n",
              "      <td>1.214286</td>\n",
              "      <td>2</td>\n",
              "    </tr>\n",
              "    <tr>\n",
              "      <th>2</th>\n",
              "      <td>1.213571</td>\n",
              "      <td>2</td>\n",
              "    </tr>\n",
              "    <tr>\n",
              "      <th>3</th>\n",
              "      <td>1.164286</td>\n",
              "      <td>2</td>\n",
              "    </tr>\n",
              "    <tr>\n",
              "      <th>4</th>\n",
              "      <td>1.107857</td>\n",
              "      <td>2</td>\n",
              "    </tr>\n",
              "  </tbody>\n",
              "</table>\n",
              "</div>"
            ],
            "text/plain": [
              "   data_index  cluster\n",
              "0    1.156429        2\n",
              "1    1.214286        2\n",
              "2    1.213571        2\n",
              "3    1.164286        2\n",
              "4    1.107857        2"
            ]
          },
          "metadata": {},
          "execution_count": 196
        }
      ]
    },
    {
      "cell_type": "code",
      "metadata": {
        "id": "xNzELna9ZndT",
        "outputId": "14cfbd56-27a7-495f-95fd-3057287ddd9d",
        "colab": {
          "base_uri": "https://localhost:8080/",
          "height": 203
        }
      },
      "source": [
        "df_cluster = pd.DataFrame()\n",
        "df_cluster['data_index']= df_acciones.index.values\n",
        "df_cluster['data_index']= df_acciones.Close\n",
        "df_cluster['cluster']=kmeans.labels_\n",
        "df_cluster.head()"
      ],
      "execution_count": 197,
      "outputs": [
        {
          "output_type": "execute_result",
          "data": {
            "text/html": [
              "<div>\n",
              "<style scoped>\n",
              "    .dataframe tbody tr th:only-of-type {\n",
              "        vertical-align: middle;\n",
              "    }\n",
              "\n",
              "    .dataframe tbody tr th {\n",
              "        vertical-align: top;\n",
              "    }\n",
              "\n",
              "    .dataframe thead th {\n",
              "        text-align: right;\n",
              "    }\n",
              "</style>\n",
              "<table border=\"1\" class=\"dataframe\">\n",
              "  <thead>\n",
              "    <tr style=\"text-align: right;\">\n",
              "      <th></th>\n",
              "      <th>data_index</th>\n",
              "      <th>cluster</th>\n",
              "    </tr>\n",
              "  </thead>\n",
              "  <tbody>\n",
              "    <tr>\n",
              "      <th>0</th>\n",
              "      <td>1.196429</td>\n",
              "      <td>2</td>\n",
              "    </tr>\n",
              "    <tr>\n",
              "      <th>1</th>\n",
              "      <td>1.210000</td>\n",
              "      <td>2</td>\n",
              "    </tr>\n",
              "    <tr>\n",
              "      <th>2</th>\n",
              "      <td>1.157143</td>\n",
              "      <td>2</td>\n",
              "    </tr>\n",
              "    <tr>\n",
              "      <th>3</th>\n",
              "      <td>1.103571</td>\n",
              "      <td>2</td>\n",
              "    </tr>\n",
              "    <tr>\n",
              "      <th>4</th>\n",
              "      <td>1.071429</td>\n",
              "      <td>2</td>\n",
              "    </tr>\n",
              "  </tbody>\n",
              "</table>\n",
              "</div>"
            ],
            "text/plain": [
              "   data_index  cluster\n",
              "0    1.196429        2\n",
              "1    1.210000        2\n",
              "2    1.157143        2\n",
              "3    1.103571        2\n",
              "4    1.071429        2"
            ]
          },
          "metadata": {},
          "execution_count": 197
        }
      ]
    }
  ]
}